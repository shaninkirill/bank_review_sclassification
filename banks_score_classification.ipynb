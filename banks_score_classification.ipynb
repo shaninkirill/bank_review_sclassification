{
 "cells": [
  {
   "cell_type": "markdown",
   "id": "36e82575-e145-4aed-b26c-fa3113b77dcd",
   "metadata": {},
   "source": [
    "## Простая классификация текста с Transformers: анализ отзывов о банках. Fine-tuning RuBERT"
   ]
  },
  {
   "cell_type": "markdown",
   "id": "79d1d3f6-e4bc-4282-87f4-4b8e65a685ab",
   "metadata": {},
   "source": [
    "### Импортируем необходимые библиотеки"
   ]
  },
  {
   "cell_type": "code",
   "execution_count": 1,
   "id": "208c616e-c890-4f33-9652-0fa3922cfe93",
   "metadata": {},
   "outputs": [
    {
     "name": "stderr",
     "output_type": "stream",
     "text": [
      "2024-07-10 13:44:42.718034: I tensorflow/core/util/port.cc:110] oneDNN custom operations are on. You may see slightly different numerical results due to floating-point round-off errors from different computation orders. To turn them off, set the environment variable `TF_ENABLE_ONEDNN_OPTS=0`.\n",
      "2024-07-10 13:44:42.770337: I tensorflow/core/platform/cpu_feature_guard.cc:182] This TensorFlow binary is optimized to use available CPU instructions in performance-critical operations.\n",
      "To enable the following instructions: AVX2 AVX512F AVX512_VNNI FMA, in other operations, rebuild TensorFlow with the appropriate compiler flags.\n",
      "2024-07-10 13:44:43.667165: W tensorflow/compiler/tf2tensorrt/utils/py_utils.cc:38] TF-TRT Warning: Could not find TensorRT\n"
     ]
    }
   ],
   "source": [
    "import pandas as pd\n",
    "import matplotlib.pyplot as plt\n",
    "from datasets import Dataset\n",
    "from transformers import AutoTokenizer, DataCollatorWithPadding, AutoModelForSequenceClassification, TrainingArguments, Trainer, pipeline\n",
    "import numpy as np\n",
    "from sklearn.model_selection import train_test_split\n",
    "from sklearn.metrics import accuracy_score\n",
    "from sklearn.metrics import precision_recall_fscore_support, classification_report"
   ]
  },
  {
   "cell_type": "markdown",
   "id": "1b397fde-780a-4b3e-ab60-3dece3516321",
   "metadata": {},
   "source": [
    "### Cчитываем данные. В нашем случае это отзывы о банках"
   ]
  },
  {
   "cell_type": "code",
   "execution_count": 2,
   "id": "10da02f7-ef6f-4438-89b5-8839bdff16f4",
   "metadata": {},
   "outputs": [],
   "source": [
    "df = pd.read_csv('../data/banks.csv', sep='\\t', index_col='idx')"
   ]
  },
  {
   "cell_type": "code",
   "execution_count": 3,
   "id": "87c2dad7-bec9-4b3e-9a52-3d8de09f15f4",
   "metadata": {},
   "outputs": [
    {
     "data": {
      "text/html": [
       "<div>\n",
       "<style scoped>\n",
       "    .dataframe tbody tr th:only-of-type {\n",
       "        vertical-align: middle;\n",
       "    }\n",
       "\n",
       "    .dataframe tbody tr th {\n",
       "        vertical-align: top;\n",
       "    }\n",
       "\n",
       "    .dataframe thead th {\n",
       "        text-align: right;\n",
       "    }\n",
       "</style>\n",
       "<table border=\"1\" class=\"dataframe\">\n",
       "  <thead>\n",
       "    <tr style=\"text-align: right;\">\n",
       "      <th></th>\n",
       "      <th>Score</th>\n",
       "      <th>Text</th>\n",
       "    </tr>\n",
       "    <tr>\n",
       "      <th>idx</th>\n",
       "      <th></th>\n",
       "      <th></th>\n",
       "    </tr>\n",
       "  </thead>\n",
       "  <tbody>\n",
       "    <tr>\n",
       "      <th>0</th>\n",
       "      <td>Positive</td>\n",
       "      <td>В Альфа-Банке работает замечательная девушка -...</td>\n",
       "    </tr>\n",
       "    <tr>\n",
       "      <th>1</th>\n",
       "      <td>Negative</td>\n",
       "      <td>Оформляя рассрочку в м. Видео в меге тёплый ст...</td>\n",
       "    </tr>\n",
       "    <tr>\n",
       "      <th>2</th>\n",
       "      <td>Positive</td>\n",
       "      <td>Очень порадовала оперативность работы в банке....</td>\n",
       "    </tr>\n",
       "    <tr>\n",
       "      <th>3</th>\n",
       "      <td>Negative</td>\n",
       "      <td>Имела неосторожность оформить потреб. кредит в...</td>\n",
       "    </tr>\n",
       "    <tr>\n",
       "      <th>4</th>\n",
       "      <td>Negative</td>\n",
       "      <td>Небольшая предыстория: Нашел на сайте MDM банк...</td>\n",
       "    </tr>\n",
       "  </tbody>\n",
       "</table>\n",
       "</div>"
      ],
      "text/plain": [
       "        Score                                               Text\n",
       "idx                                                             \n",
       "0    Positive  В Альфа-Банке работает замечательная девушка -...\n",
       "1    Negative  Оформляя рассрочку в м. Видео в меге тёплый ст...\n",
       "2    Positive  Очень порадовала оперативность работы в банке....\n",
       "3    Negative  Имела неосторожность оформить потреб. кредит в...\n",
       "4    Negative  Небольшая предыстория: Нашел на сайте MDM банк..."
      ]
     },
     "execution_count": 3,
     "metadata": {},
     "output_type": "execute_result"
    }
   ],
   "source": [
    "df.head()"
   ]
  },
  {
   "cell_type": "code",
   "execution_count": 4,
   "id": "1ef7e8b9-c744-4554-a75f-37103f8f51a7",
   "metadata": {},
   "outputs": [],
   "source": [
    "score_value_counts = df['Score'].value_counts()"
   ]
  },
  {
   "cell_type": "code",
   "execution_count": 5,
   "id": "17682ce2-2519-46e4-85b4-e6bee68ca088",
   "metadata": {},
   "outputs": [
    {
     "data": {
      "text/plain": [
       "Score\n",
       "Positive    7000\n",
       "Negative    6999\n",
       "Name: count, dtype: int64"
      ]
     },
     "execution_count": 5,
     "metadata": {},
     "output_type": "execute_result"
    }
   ],
   "source": [
    "score_value_counts"
   ]
  },
  {
   "cell_type": "markdown",
   "id": "abd7b0bc-cfb2-4998-a75f-5c6fd3f3f441",
   "metadata": {},
   "source": [
    "### Как мы видим существует два отношения к ситуации, произошейдшей в банке - положительная и негативная. "
   ]
  },
  {
   "cell_type": "code",
   "execution_count": 6,
   "id": "9f3b723a-7ca4-45bb-bb35-96d08c1b18f2",
   "metadata": {},
   "outputs": [
    {
     "data": {
      "image/png": "[encoded data removed]",
      "text/plain": [
       "<Figure size 640x480 with 1 Axes>"
      ]
     },
     "metadata": {},
     "output_type": "display_data"
    }
   ],
   "source": [
    "plt.bar(score_value_counts.index, score_value_counts.values)\n",
    "plt.xlabel('Score')\n",
    "plt.ylabel('Количество')\n",
    "plt.show()"
   ]
  },
  {
   "cell_type": "markdown",
   "id": "4d7b5c3d-0c68-454e-a7a3-1a65141d417c",
   "metadata": {},
   "source": [
    "### Создаем токинизатор"
   ]
  },
  {
   "cell_type": "code",
   "execution_count": 7,
   "id": "b5612ac9-5248-4b20-9979-ce4b6d2ce745",
   "metadata": {},
   "outputs": [],
   "source": [
    "tokenizer = AutoTokenizer.from_pretrained(\"DeepPavlov/rubert-base-cased\")"
   ]
  },
  {
   "cell_type": "code",
   "execution_count": 8,
   "id": "bd6b1d4f-ecd4-4642-a7a7-04796b30eb0d",
   "metadata": {},
   "outputs": [],
   "source": [
    "df['Score'] = df['Score'].map({\n",
    "    'Positive': 1, \n",
    "    'Negative': 0\n",
    "})"
   ]
  },
  {
   "cell_type": "code",
   "execution_count": 9,
   "id": "bc46375a-1463-4240-a664-c0b4c487cb13",
   "metadata": {},
   "outputs": [],
   "source": [
    "df.rename(columns={'Text': 'text', 'Score': 'label'}, inplace=True)"
   ]
  },
  {
   "cell_type": "markdown",
   "id": "a4a78e6e-49fe-4e7d-bb7e-d412bdc652dc",
   "metadata": {},
   "source": [
    "### Разбиваем выборку на обучающую и тестовую"
   ]
  },
  {
   "cell_type": "code",
   "execution_count": 10,
   "id": "d75611d7-8437-4f05-9df6-d2d5b0bd7032",
   "metadata": {},
   "outputs": [],
   "source": [
    "train_dataset, test_dataset = train_test_split(df, test_size=0.05)"
   ]
  },
  {
   "cell_type": "markdown",
   "id": "611751f6",
   "metadata": {},
   "source": [
    "### Разбиваем выфборку на обучающую и валидационную"
   ]
  },
  {
   "cell_type": "code",
   "execution_count": 11,
   "id": "c2012e8a-e2eb-4d1d-852a-f3a1b5391f95",
   "metadata": {},
   "outputs": [],
   "source": [
    "train_dataset, eval_dataset = train_test_split(train_dataset, test_size=0.15)"
   ]
  },
  {
   "cell_type": "code",
   "execution_count": 12,
   "id": "ad335cb6-b1e3-45eb-9140-382cf0b85361",
   "metadata": {},
   "outputs": [],
   "source": [
    "train_dataset = Dataset.from_dict(train_dataset)\n",
    "eval_dataset = Dataset.from_dict(eval_dataset)\n",
    "test_dataset = Dataset.from_dict(test_dataset)"
   ]
  },
  {
   "cell_type": "markdown",
   "id": "7642224d-8934-45bf-bb30-f4800dcda8fa",
   "metadata": {},
   "source": [
    "### Создаем функцию для преобразования текста в токены"
   ]
  },
  {
   "cell_type": "code",
   "execution_count": 13,
   "id": "d6189062-b267-4fc5-978c-070e93a73fb1",
   "metadata": {},
   "outputs": [],
   "source": [
    "def preprocess_function(examples):\n",
    "    return tokenizer(examples[\"text\"], truncation=True, padding=True, max_length=512)"
   ]
  },
  {
   "cell_type": "markdown",
   "id": "2fc16ac6-59ee-484e-b0fd-714f042ad75d",
   "metadata": {},
   "source": [
    "### Токенизируем данные"
   ]
  },
  {
   "cell_type": "code",
   "execution_count": 14,
   "id": "9bfa5012-af58-4686-b10d-4a97dacd5bc0",
   "metadata": {},
   "outputs": [
    {
     "data": {
      "application/vnd.jupyter.widget-view+json": {
       "model_id": "",
       "version_major": 2,
       "version_minor": 0
      },
      "text/plain": [
       "Map:   0%|          | 0/11304 [00:00<?, ? examples/s]"
      ]
     },
     "metadata": {},
     "output_type": "display_data"
    }
   ],
   "source": [
    "tokenized_train_dataset = train_dataset.map(\n",
    "    preprocess_function,   \n",
    "    batched=True,\n",
    ")"
   ]
  },
  {
   "cell_type": "code",
   "execution_count": 15,
   "id": "82596597-0608-4aa9-a640-825420f16bdb",
   "metadata": {},
   "outputs": [
    {
     "data": {
      "application/vnd.jupyter.widget-view+json": {
       "model_id": "",
       "version_major": 2,
       "version_minor": 0
      },
      "text/plain": [
       "Map:   0%|          | 0/1995 [00:00<?, ? examples/s]"
      ]
     },
     "metadata": {},
     "output_type": "display_data"
    }
   ],
   "source": [
    "tokenized_eval_dataset = eval_dataset.map(\n",
    "    preprocess_function,   \n",
    "    batched=True,\n",
    ")"
   ]
  },
  {
   "cell_type": "code",
   "execution_count": 16,
   "id": "3b7a1a47-4efd-4692-82b1-37f59eefee23",
   "metadata": {},
   "outputs": [
    {
     "data": {
      "application/vnd.jupyter.widget-view+json": {
       "model_id": "",
       "version_major": 2,
       "version_minor": 0
      },
      "text/plain": [
       "Map:   0%|          | 0/700 [00:00<?, ? examples/s]"
      ]
     },
     "metadata": {},
     "output_type": "display_data"
    }
   ],
   "source": [
    "tokenized_test_dataset = test_dataset.map(\n",
    "    preprocess_function,   \n",
    "    batched=True,\n",
    ")"
   ]
  },
  {
   "cell_type": "markdown",
   "id": "ef8c6586-b590-46f3-a6c6-224ac535d79d",
   "metadata": {},
   "source": [
    "### Создадим коллатор"
   ]
  },
  {
   "cell_type": "code",
   "execution_count": 17,
   "id": "585488c2-e119-4fee-8b9b-8fbab3577440",
   "metadata": {},
   "outputs": [],
   "source": [
    "data_collator = DataCollatorWithPadding(tokenizer=tokenizer)"
   ]
  },
  {
   "cell_type": "markdown",
   "id": "108f99b6-2212-48fd-95f6-53d023c74210",
   "metadata": {},
   "source": [
    "### Создаем функцию, в которой будет высчитываться качество обучения нашей модели"
   ]
  },
  {
   "cell_type": "code",
   "execution_count": 18,
   "id": "c411a812-ee7b-46a9-80bc-691bd02a727b",
   "metadata": {},
   "outputs": [],
   "source": [
    "def compute_metrics(pred):\n",
    "    labels = pred.label_ids\n",
    "    preds = pred.predictions.argmax(-1)\n",
    "    precision, recall, f1, _ = precision_recall_fscore_support(labels, preds, average='binary')\n",
    "    acc = accuracy_score(labels, preds)\n",
    "    return {\n",
    "        'accuracy': acc,\n",
    "        'f1': f1,\n",
    "        'precision': precision,\n",
    "        'recall': recall\n",
    "    }\n"
   ]
  },
  {
   "cell_type": "markdown",
   "id": "748d645f-c8c1-473d-a369-aef9fe88d5b1",
   "metadata": {},
   "source": [
    "### Создадим два словаря, они связывают номера классов с их соответствующими метками, и наоборот"
   ]
  },
  {
   "cell_type": "code",
   "execution_count": 19,
   "id": "02de877d-a950-4c8f-8f8d-069b71912cec",
   "metadata": {},
   "outputs": [],
   "source": [
    "id2label = {\n",
    "    0: 'Negative', \n",
    "    1: 'Positive'\n",
    "}\n",
    "\n",
    "label2id = {\n",
    "    'Negative': 0, \n",
    "    'Positive': 1\n",
    "}"
   ]
  },
  {
   "cell_type": "markdown",
   "id": "34e10ce2-af40-47a1-b9b8-2051d0282017",
   "metadata": {},
   "source": [
    "### Загружаем уже обученную модель и определяем количество классов, которые модель сможет распознавать после обучения"
   ]
  },
  {
   "cell_type": "code",
   "execution_count": 20,
   "id": "631351fe-ef77-4da9-a73d-6491627dbf19",
   "metadata": {},
   "outputs": [
    {
     "name": "stderr",
     "output_type": "stream",
     "text": [
      "/home/osipov/.local/lib/python3.10/site-packages/torch/_utils.py:776: UserWarning: TypedStorage is deprecated. It will be removed in the future and UntypedStorage will be the only storage class. This should only matter to you if you are using storages directly.  To access UntypedStorage directly, use tensor.untyped_storage() instead of tensor.storage()\n",
      "  return self.fget.__get__(instance, owner)()\n",
      "Some weights of BertForSequenceClassification were not initialized from the model checkpoint at DeepPavlov/rubert-base-cased and are newly initialized: ['classifier.bias', 'classifier.weight']\n",
      "You should probably TRAIN this model on a down-stream task to be able to use it for predictions and inference.\n"
     ]
    }
   ],
   "source": [
    "model = AutoModelForSequenceClassification.from_pretrained(\n",
    "    \"DeepPavlov/rubert-base-cased\", \n",
    "    num_labels=2, \n",
    "    id2label=id2label, \n",
    "    label2id=label2id\n",
    ")"
   ]
  },
  {
   "cell_type": "markdown",
   "id": "ffa85ad6-3dcc-4b27-92b5-ac4232fa76d5",
   "metadata": {},
   "source": [
    "### Определяем аргументы для обучения"
   ]
  },
  {
   "cell_type": "code",
   "execution_count": 21,
   "id": "1674d024-2e9a-4b78-8dba-012ea3826b10",
   "metadata": {},
   "outputs": [
    {
     "name": "stderr",
     "output_type": "stream",
     "text": [
      "/home/osipov/.local/lib/python3.10/site-packages/transformers/training_args.py:1494: FutureWarning: `evaluation_strategy` is deprecated and will be removed in version 4.46 of 🤗 Transformers. Use `eval_strategy` instead\n",
      "  warnings.warn(\n"
     ]
    }
   ],
   "source": [
    "training_args = TrainingArguments(\n",
    "    output_dir=\"rubert_fine-tuning\", # каталог для сохранения результатов обучения\n",
    "    learning_rate=2e-5, # скорость обучения\n",
    "    per_device_train_batch_size=16, # размер батча для обучения\n",
    "    per_device_eval_batch_size=16, # размер батча для оценки\n",
    "    num_train_epochs=3, # количество эпох обучения\n",
    "    weight_decay=0.01, # коэффициент регуляризации\n",
    "    evaluation_strategy=\"epoch\", # стратегия оценки\n",
    "    save_strategy=\"epoch\", # стратегия сохранения модели\n",
    "    load_best_model_at_end=True, # загружает лучшую модель в конце обучения\n",
    "    bf16=True, # bfloat16 тренировка\n",
    ")"
   ]
  },
  {
   "cell_type": "markdown",
   "id": "29dcf3ec-3706-47ca-ad7a-da2d2fb7b971",
   "metadata": {},
   "source": [
    "### Создаем объект Trainer, который будет управлять обучением. "
   ]
  },
  {
   "cell_type": "code",
   "execution_count": 22,
   "id": "fdc3ac1f-1aa1-4762-90eb-75ad14e6517e",
   "metadata": {},
   "outputs": [
    {
     "name": "stderr",
     "output_type": "stream",
     "text": [
      "Detected kernel version 4.18.0, which is below the recommended minimum of 5.5.0; this can cause the process to hang. It is recommended to upgrade the kernel to the minimum version or higher.\n"
     ]
    }
   ],
   "source": [
    "trainer = Trainer(\n",
    "    model=model, # модель для обучения\n",
    "    args=training_args, # аргументы для обучения\n",
    "    train_dataset=tokenized_train_dataset, # обучающие данные\n",
    "    eval_dataset=tokenized_eval_dataset, # тестовые данные\n",
    "    tokenizer=tokenizer, # токенизатор\n",
    "    data_collator=data_collator, # коллатор\n",
    "    compute_metrics=compute_metrics, # функция для вычисления метрик\n",
    ")"
   ]
  },
  {
   "cell_type": "markdown",
   "id": "d3520349-29e8-4906-a2b4-a4028472ac02",
   "metadata": {},
   "source": [
    "### Запускаем процесс обучения модели"
   ]
  },
  {
   "cell_type": "code",
   "execution_count": 23,
   "id": "4ba51953-cf05-47f8-9b7f-2c9c4e5ef2d9",
   "metadata": {},
   "outputs": [
    {
     "data": {
      "text/html": [
       "\n",
       "    <div>\n",
       "      \n",
       "      <progress value='2121' max='2121' style='width:300px; height:20px; vertical-align: middle;'></progress>\n",
       "      [2121/2121 5:33:42, Epoch 3/3]\n",
       "    </div>\n",
       "    <table border=\"1\" class=\"dataframe\">\n",
       "  <thead>\n",
       " <tr style=\"text-align: left;\">\n",
       "      <th>Epoch</th>\n",
       "      <th>Training Loss</th>\n",
       "      <th>Validation Loss</th>\n",
       "      <th>Accuracy</th>\n",
       "      <th>F1</th>\n",
       "      <th>Precision</th>\n",
       "      <th>Recall</th>\n",
       "    </tr>\n",
       "  </thead>\n",
       "  <tbody>\n",
       "    <tr>\n",
       "      <td>1</td>\n",
       "      <td>0.279600</td>\n",
       "      <td>0.199020</td>\n",
       "      <td>0.938847</td>\n",
       "      <td>0.934899</td>\n",
       "      <td>0.983165</td>\n",
       "      <td>0.891150</td>\n",
       "    </tr>\n",
       "    <tr>\n",
       "      <td>2</td>\n",
       "      <td>0.165200</td>\n",
       "      <td>0.211722</td>\n",
       "      <td>0.947368</td>\n",
       "      <td>0.946126</td>\n",
       "      <td>0.954451</td>\n",
       "      <td>0.937945</td>\n",
       "    </tr>\n",
       "    <tr>\n",
       "      <td>3</td>\n",
       "      <td>0.069700</td>\n",
       "      <td>0.239275</td>\n",
       "      <td>0.951880</td>\n",
       "      <td>0.950413</td>\n",
       "      <td>0.965373</td>\n",
       "      <td>0.935910</td>\n",
       "    </tr>\n",
       "  </tbody>\n",
       "</table><p>"
      ],
      "text/plain": [
       "<IPython.core.display.HTML object>"
      ]
     },
     "metadata": {},
     "output_type": "display_data"
    },
    {
     "data": {
      "text/plain": [
       "TrainOutput(global_step=2121, training_loss=0.15317810351755304, metrics={'train_runtime': 20031.3456, 'train_samples_per_second': 1.693, 'train_steps_per_second': 0.106, 'total_flos': 8922622109368320.0, 'train_loss': 0.15317810351755304, 'epoch': 3.0})"
      ]
     },
     "execution_count": 23,
     "metadata": {},
     "output_type": "execute_result"
    }
   ],
   "source": [
    "trainer.train()"
   ]
  },
  {
   "cell_type": "markdown",
   "id": "4fe32634-04cf-49c3-98c7-f5f2ce4d03ef",
   "metadata": {},
   "source": [
    "### Сохраняем модель"
   ]
  },
  {
   "cell_type": "code",
   "execution_count": 24,
   "id": "87fc1f51-662c-4646-8bc7-3498eac79666",
   "metadata": {},
   "outputs": [
    {
     "data": {
      "text/plain": [
       "('../models/fine-tune_rubert/tokenizer_config.json',\n",
       " '../models/fine-tune_rubert/special_tokens_map.json',\n",
       " '../models/fine-tune_rubert/vocab.txt',\n",
       " '../models/fine-tune_rubert/added_tokens.json',\n",
       " '../models/fine-tune_rubert/tokenizer.json')"
      ]
     },
     "execution_count": 24,
     "metadata": {},
     "output_type": "execute_result"
    }
   ],
   "source": [
    "model_path = \"../models/fine-tune_rubert\"\n",
    "model.save_pretrained(model_path)\n",
    "tokenizer.save_pretrained(model_path)"
   ]
  },
  {
   "cell_type": "markdown",
   "id": "6fa22dd6-bbb7-4c95-a372-a7c89e965ef0",
   "metadata": {},
   "source": [
    "### Функция для получения предикта"
   ]
  },
  {
   "cell_type": "code",
   "execution_count": 25,
   "id": "b3448136-291f-4eef-876b-3513fdf4aba2",
   "metadata": {},
   "outputs": [
    {
     "data": {
      "text/html": [],
      "text/plain": [
       "<IPython.core.display.HTML object>"
      ]
     },
     "metadata": {},
     "output_type": "display_data"
    }
   ],
   "source": [
    "def get_prediction():\n",
    "    test_pred = trainer.predict(tokenized_test_dataset)\n",
    "    labels = np.argmax(test_pred.predictions, axis = -1)\n",
    "    return labels\n",
    "pred = get_prediction()"
   ]
  },
  {
   "cell_type": "code",
   "execution_count": 26,
   "id": "694500e2-164f-4fce-8ee7-8d40f99bfdcc",
   "metadata": {},
   "outputs": [],
   "source": [
    "test_labels = test_dataset['label']"
   ]
  },
  {
   "cell_type": "markdown",
   "id": "557866ff-0034-48ae-aa07-554ba3037161",
   "metadata": {},
   "source": [
    "### Вывод всей необходимой информации для оценки качества модели"
   ]
  },
  {
   "cell_type": "code",
   "execution_count": 27,
   "id": "f73a87f8-97c1-4374-a7a2-1b6cb45f563e",
   "metadata": {},
   "outputs": [
    {
     "name": "stdout",
     "output_type": "stream",
     "text": [
      "              precision    recall  f1-score   support\n",
      "\n",
      "           0       0.91      0.99      0.95       344\n",
      "           1       0.99      0.90      0.95       356\n",
      "\n",
      "    accuracy                           0.95       700\n",
      "   macro avg       0.95      0.95      0.95       700\n",
      "weighted avg       0.95      0.95      0.95       700\n",
      "\n"
     ]
    }
   ],
   "source": [
    "print(classification_report(test_labels, pred))"
   ]
  },
  {
   "cell_type": "markdown",
   "id": "8db9afac-5fd4-46b4-a833-9f1262cb6b1f",
   "metadata": {},
   "source": [
    "### По итогу получаю F1 = 0.95! Это довольно крутой результат, который можно улучшить"
   ]
  },
  {
   "cell_type": "markdown",
   "id": "3eb61200-e38f-4c38-bb02-13beb7e8f145",
   "metadata": {},
   "source": [
    "### Теперь создадим прогнозы имитировав пользователя"
   ]
  },
  {
   "cell_type": "code",
   "execution_count": 28,
   "id": "e419b362-9145-4b51-aa22-b2ef7d2e3703",
   "metadata": {},
   "outputs": [],
   "source": [
    "from transformers import pipeline"
   ]
  },
  {
   "cell_type": "code",
   "execution_count": 29,
   "id": "96ef47ad-7b1f-4931-955a-972e94cd5463",
   "metadata": {},
   "outputs": [],
   "source": [
    "classifier = pipeline(\n",
    "    'text-classification',\n",
    "    'result_ruber/checkpoint-3940'\n",
    ")"
   ]
  },
  {
   "cell_type": "code",
   "execution_count": 30,
   "id": "a55021b7-c565-4d1a-b9df-9f667b425c4a",
   "metadata": {},
   "outputs": [],
   "source": [
    "tests = [\n",
    "    'Недавно была в Сбербанке и это какой-то ужас! Мало того, что огромные и длинные очереди, так еще мне хамят! БЕСПРЕДЕЛ',\n",
    "    'Какие же хорошие люди у нас работают в Альфа-Банке. А девушка какая там миловидная!! Красота',\n",
    "    \"\"\"Добрый день! Я являюсь ИП и стоял перед выбором банка для открытия расчетного счета. Посоветовали обратиться в Россельхозбанк, что я и сделал , и не прогадал. Теперь хочу рассказать о моем впечатлении , может быть это тоже поможет кому нибудь сделать выбор ! Офис расположен удобно, электронная очередь обеспечивает порядок и дисциплину. После взятия талона вызвали через 2 минуты к специалисту. Мне подробно рассказали про условия счета, про возможность проведения платежных поручений, про мобильное приложение. На все вопросы ответили, приложение подключили и рассказали, как им пользоваться. Всего минут 10 и мою потребность полностью удовлетворили. Сотрудник просто грамотно и на понятном нам клиентам языке рассказал все, открыто и без всяких подводных камней. Это приятно удивляет. Так же я рассказал, что планирую кредитоваться и узнал условия текущие по кредитам. С этим вопросом мне надо подумать, так что мы с сотрудником обменялись контактными данными для связи и назначения встречи в офисе банка в дальнейшем. Хочу сказать спасибо коллективу отделения Россельхозбанка в Элисте и руководителю за ценный вклад в развитие своих сотрудников ! Всем желаю успехов, а банку процветания.\"\"\",\n",
    "    \"\"\"14 января 2023 года была попытка перевода денег в размере 15 тыс клиенту другого банка, но произошел какой-то сбой в приложении, деньги с карты списались, но до получателя не дошли. Начали звонить в техподдержку, ощущение что там сидят вчерашние школьники. Нам обещали что через пять рабочих дней деньги вернуться, прошло пять дней, звоним, там нам очередной профи сообщает что предыдущий оператор не так оформил заявку, через пару дней все исправят, проходит еще пару дней, следующий оператор утверждает что надо не в такой форме заявку подать, и через день все вернется.... потом мы поехали в офис Альфа банка, там заверили что в течении суток все решится, но само собой ничего не решилось, нам написали что нужно еще пару дней подождать... Сегодня 01.02.2023 деньги висят в блокировке!!!! То ли в Альфа банке в принципе такое отношение к клиентам, либо там работают полнейшие непрофи (это я корректно выразилась, хотя очень хочется назвать по другому), что тоже говорит само за себя. Альфа банк, команда непрофессионалов. Не рекомендую пользоваться услугами этого банка.\"\"\",\n",
    "]"
   ]
  },
  {
   "cell_type": "code",
   "execution_count": 31,
   "id": "6cb475a1-8566-49e6-9ec3-98bb4b69cce4",
   "metadata": {},
   "outputs": [
    {
     "name": "stdout",
     "output_type": "stream",
     "text": [
      "[{'label': 'Negative', 'score': 0.9994066953659058}]\n",
      "[{'label': 'Positive', 'score': 0.9998844861984253}]\n",
      "[{'label': 'Positive', 'score': 0.9999184608459473}]\n",
      "[{'label': 'Negative', 'score': 0.9993094205856323}]\n"
     ]
    }
   ],
   "source": [
    "for test in tests:\n",
    "    print(classifier(test))"
   ]
  }
 ],
 "metadata": {
  "kernelspec": {
   "display_name": "Python 3 (ipykernel)",
   "language": "python",
   "name": "python3"
  },
  "language_info": {
   "codemirror_mode": {
    "name": "ipython",
    "version": 3
   },
   "file_extension": ".py",
   "mimetype": "text/x-python",
   "name": "python",
   "nbconvert_exporter": "python",
   "pygments_lexer": "ipython3",
   "version": "3.10.11"
  }
 },
 "nbformat": 4,
 "nbformat_minor": 5
}
